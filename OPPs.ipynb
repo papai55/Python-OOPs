{
  "nbformat": 4,
  "nbformat_minor": 0,
  "metadata": {
    "colab": {
      "provenance": []
    },
    "kernelspec": {
      "name": "python3",
      "display_name": "Python 3"
    },
    "language_info": {
      "name": "python"
    }
  },
  "cells": [
    {
      "cell_type": "markdown",
      "source": [
        "# OOP ASSIGNMENT"
      ],
      "metadata": {
        "id": "ai8jsp0QIZNP"
      }
    },
    {
      "cell_type": "markdown",
      "source": [
        "# Theory Questions"
      ],
      "metadata": {
        "id": "-6-sK6v3INwU"
      }
    },
    {
      "cell_type": "markdown",
      "source": [
        "**Q1)  What is Object-Oriented Programming (OOP)?**\n",
        "\n",
        "-> Object-Oriented Programming (OOP) is a programming paradigm that organizes software design around objects, rather than logic and functions. Objects encapsulate data (attributes) and behavior (methods) in a single unit. OOP promotes code reusability, scalability, and maintainability through four core principles: abstraction, encapsulation, inheritance, and polymorphism."
      ],
      "metadata": {
        "id": "ogEUpPaDmCY4"
      }
    },
    {
      "cell_type": "markdown",
      "source": [
        "**Q2)  What is a class in OOP?**\n",
        "\n",
        "-> A class is a blueprint/template or a user - define datatype for creating objects and a user-defined data type that contains attributes(member variables) and have behaviour(methods) associated with them. Classes encapsulate data (attributes) and methods (functions) that operate on that data and created using the \"class\" keyword in python.\n",
        "\n",
        "Syntax:\n",
        "\n",
        "    class ClassName:\n",
        "      def __init__(self, attributes):\n",
        "        self.attribute = attributes  # Initialize attributes\n"
      ],
      "metadata": {
        "id": "OUuWrcnqnNWT"
      }
    },
    {
      "cell_type": "markdown",
      "source": [
        "**Q3) What is an object in OOP?**\n",
        "\n",
        "-> In Object-Oriented Programming (OOP), an object is an instance of a class. It represents a specific entity created using the blueprint defined by the class. Objects encapsulate data (attributes) and behavior (methods) that work together to perform tasks or represent real-world entities.\n",
        "\n",
        "Key Characteristics of an Object:\n",
        "* Instance: Objects are created from a class blueprint.\n",
        "* Attributes: Data or properties of the object (e.g., color, size).\n",
        "* Methods: Functions that define the behavior of the object (e.g., run, jump)."
      ],
      "metadata": {
        "id": "9iLAbCBGvYCC"
      }
    },
    {
      "cell_type": "markdown",
      "source": [
        "**Q4)  What is the difference between abstraction and encapsulation?**\n",
        "\n",
        " **Abstraction**:  \n",
        "   * Hides implementation details and focuses on what an object does.  \n",
        "   * Achieved using abstract classes and abstract methods.  \n",
        "\n",
        "  **Example:**  A 'Shape' class provides an interface for 'area()' without revealing its implementation.\n",
        "\n",
        "**Encapsulation**:  \n",
        "  * Hides internal data and controls and manages data access.  \n",
        "  * Achieved using access modifiers (private, protected) and getters/setters.\n",
        "\n",
        " **Example:** An 'Employee' class keeps '__salary' private and provides methods to access or modify it safely."
      ],
      "metadata": {
        "id": "BKSRZ6gjwnap"
      }
    },
    {
      "cell_type": "markdown",
      "source": [
        " **Q5)  What are dunder methods in Python?**\n",
        "\n",
        " -> Dunder methods (short for double underscore methods) are special methods in Python with names surrounded by double underscores (e.g., `__init__`, `__str__`,` __add__`). They are also called magic methods.\n",
        "\n",
        "**Purpose of dunder method:**\n",
        "\n",
        "* To provide built-in functionality to objects.\n",
        "* To customize object behavior, such as initialization, representation, or operator overloading.\n",
        "\n",
        "**For Example:**\n",
        "\n",
        "    __init__(self, ...): Constructor, initializes an object.\n",
        "    _str_(self): Defines how the object is represented as a string (e.g., when using print())."
      ],
      "metadata": {
        "id": "155PNMHX7_Vd"
      }
    },
    {
      "cell_type": "markdown",
      "source": [
        "**Q6) Explain the concept of inheritance in OOP.**\n",
        "\n",
        "-> Inheritance is a mechanism in OOPs where one class (the child or subclass) inherits the attributes and methods of another class (the parent or superclass).This allows to create a new class based on an existing class  but can also have its own unique features, which promotes code reuse and extensibility.It follows the \"is-a\" relationship, where the child class is a type of the parent class.\n",
        "\n",
        "**Purpose of inheritance**\n",
        "\n",
        "* Promotes code reuse.\n",
        "* Establishes a hierarchical relationship between classes.\n",
        "* Allows customization and extension of parent class behavior.\n",
        "\n",
        "**Real World Example : Family Tree (With Property)**\n",
        "\n",
        "A family passing down property (like a house or land):\n",
        "* Grandparent: Owns a house and some land.\n",
        "* Parent: Inherits the house and land but also builds a new shop.\n",
        "* Child: Inherits the house, land, and shop but renovates the house to make it modern"
      ],
      "metadata": {
        "id": "fZFSplHLy3nG"
      }
    },
    {
      "cell_type": "markdown",
      "source": [
        "**Q7)  What is polymorphism in OOP?**\n",
        "\n",
        "->  Polymorphism is the ability of objects to take on different forms or behave in different ways depending on the context in which they are used.It allows objects of different classes to be treated as objects of a common superclass.It supports method overriding (runtime polymorphism) and method overloading (compile-time polymorphism)."
      ],
      "metadata": {
        "id": "W17Xwqli08Pz"
      }
    },
    {
      "cell_type": "markdown",
      "source": [
        "**Q8)  How is encapsulation achieved in Python?**\n",
        "\n",
        "-> Encapsulation achieved in Python by using access modifiers (private, protected, public) and providing getter/setter methods for controlled access.\n",
        "\n",
        "1)**Public Attributes and Methods**: Accessible from anywhere.\n",
        "\n",
        "Example: self.attribute.\n",
        "\n",
        "2)**Protected Attributes and Methods**:Indicated with a single underscore (_), suggesting they are for internal use but not strictly private.\n",
        "\n",
        "Example: _attribute.\n",
        "\n",
        "3)**Private Attributes and Methods**:Indicated with a double underscore (__), making them inaccessible from outside the class directly.\n",
        "\n",
        "Example: __attribute."
      ],
      "metadata": {
        "id": "BgN9yp7A2aA_"
      }
    },
    {
      "cell_type": "markdown",
      "source": [
        "**Q9) What is a constructor in Python?**\n",
        "\n",
        "->A constructor in Python is a special method that is used to initialize objects of a class. It is defined using the `__init__` method. When a new object is created from a class, the `__init__` method is automatically invoked to set up the initial state of the object.\n",
        "\n",
        "**For Example:**\n",
        "\n",
        "    class Car:\n",
        "        def __init__(self, model, year):\n",
        "          self.model = model\n",
        "          self.year = year\n",
        "\n",
        "    my_car = Car(\"Toyota\", 2021)\n"
      ],
      "metadata": {
        "id": "uG3uwJPRBpSH"
      }
    },
    {
      "cell_type": "markdown",
      "source": [
        "**Q10)What are class and static methods in Python?**\n",
        "\n",
        "-> **Class Method:** A method that is bound to the class, rather than the instance. It takes cls as its first parameter (representing the class itself). It is defined using the @classmethod decorator.\n",
        "\n",
        "**For Example:**\n",
        "\n",
        "    class MyClass:\n",
        "      @classmethod\n",
        "      def class_method(cls):\n",
        "          print(f\"Called from class: {cls}\")\n",
        "\n",
        "**Static Method:** A method that does not depend on class or instance. It doesn't take self or cls as its first argument. It is defined using the @staticmethod decorator.\n",
        "\n",
        "**For Example:**\n",
        "\n",
        "    class MyClass:\n",
        "      @staticmethod\n",
        "      def static_method():\n",
        "          print(\"Called from static method\")\n"
      ],
      "metadata": {
        "id": "LJ9AK2LDCOSQ"
      }
    },
    {
      "cell_type": "markdown",
      "source": [
        "**Q11) What is method overloading in Python?**\n",
        "\n",
        "-> Method overloading refers to the ability to define multiple methods with the same name but different parameters/signature (e.g., different numbers or types of arguments). However, Python does not support method overloading directly but can be acheived by using default arguments, variable-length arguments (`*args` and `**kwargs`), or conditional logic within the method.\n",
        "\n",
        "**For Example:**\n",
        "\n",
        "    class Example:\n",
        "      def add(self, a, b=0):\n",
        "        return a + b\n",
        "        \n",
        "    obj = Example()\n",
        "    print(obj.add(5))  # Calls with one argument\n",
        "    print(obj.add(5, 3))  # Calls with two arguments"
      ],
      "metadata": {
        "id": "kUGeP-xBDaL8"
      }
    },
    {
      "cell_type": "markdown",
      "source": [
        "**Q12) What is method overriding in OOP?**\n",
        "\n",
        "-> **Method overriding** - It OOP it occurs when a subclass provides its own version/pecific implementation of a method that is already defined in its superclass. This allows the subclass to modify or extend the behavior of the inherited method, while maintaining the same method signature.\n",
        "\n",
        "Method overriding enables runtime polymorphism, allowing objects of different subclasses to call the same method but have different behaviors based on the subclass's implementation.\n",
        "\n",
        "**Key Points to acheive Method overriding :**\n",
        "* The subclass should inherits the method from the superclass.\n",
        "* The subclass \"overrides\" the method to provide its own implementation.\n",
        "* The overridden method in the subclass must have the same name and parametersand return type as the method in the superclass.\n",
        "\n",
        "**For Example:**\n",
        "\n",
        "    class Animal:\n",
        "      def speak(self):\n",
        "        print(\"Animal makes a sound\")\n",
        "\n",
        "    class Dog(Animal):\n",
        "      def speak(self):\n",
        "        print(\"Dog barks\")\n",
        "\n",
        "    # the 'Dog' class overrides the 'speak()' method from the 'Animal' class to provide its own behavior (barking).\n",
        "    dog = Dog()\n",
        "    \n",
        "    # Calls overridden method\n",
        "    dog.speak() # Output:Dog barks"
      ],
      "metadata": {
        "id": "w7jWu1AoFgKz"
      }
    },
    {
      "cell_type": "markdown",
      "source": [
        "**Q13)  What is a property decorator in Python?**\n",
        "\n",
        "-> The @property decorator is used to define a method as a property that behaves like an attribute.It allows to define methods that can be accessed like attributes without explicitly calling them as functions means it can be accesed like a regular attribute but still execute logic behind the scenes when getting (or setting) the value.\n",
        "* It allows  to define methods that act like attributes.\n",
        "* Control the behavior of getting, setting, and deleting an attribute with custom logic.\n",
        "* It enhances encapsulation by allowing control access to an attribute without changing how it is accessed externally.\n",
        "\n",
        "**Uses of @property:**\n",
        "\n",
        "**Encapsulation**: To hide the internal implementation details while still providing access to an attribute.\n",
        "\n",
        "**Validation**: To add custom logic for setting values (e.g., ensuring valid input).\n",
        "\n",
        "**Read-only attributes**: To define properties that can be accessed but not modified directly."
      ],
      "metadata": {
        "id": "oVNVVNAnKW8G"
      }
    },
    {
      "cell_type": "markdown",
      "source": [
        "**Q14) Why is polymorphism important in OOP?**\n",
        "\n",
        "-> Polymorphism allows objects of different classes to be treated as objects of a common superclass. It enables the same method to behave differently based on the object calling it, providing flexibility and extensibility in the design of software. This allows us to write more generic and reusable code."
      ],
      "metadata": {
        "id": "jkcwfascMrk3"
      }
    },
    {
      "cell_type": "markdown",
      "source": [
        "**Q15) What is an abstract class in Python?**\n",
        "\n",
        "-> An abstract class in Python is a class that cannot be instantiated directly and is used as a blueprint for other classes. It can contain abstract methods, which are methods that must be implemented by subclasses. Abstract classes are defined using the 'abc' module.\n",
        "\n",
        "    as from abc import ABC, abstractmethod\n",
        "\n",
        "An abstract class ensures that all subclasses implement certain methods, helping to maintain consistency and structure in the code.\n",
        "\n",
        "\n",
        "\n"
      ],
      "metadata": {
        "id": "u8cfAQG3MrrV"
      }
    },
    {
      "cell_type": "markdown",
      "source": [
        "**Q16) What are the advantages of OOP?**\n",
        "\n",
        "-> The advantages of Object-Oriented Programming (OOP) include:\n",
        "\n",
        "1. **Modularity**: Code is organized into independent objects, making it easier to manage and maintain.\n",
        "2. **Reusability**: Classes can be reused across different programs, saving time and effort.\n",
        "3. **Encapsulation**: Internal details are hidden, providing better control and security.\n",
        "4. **Inheritance**: New classes can inherit behaviors from existing ones, promoting code reuse.\n",
        "5. **Polymorphism**: Methods can behave differently based on the object, improving flexibility.\n",
        "6. **Maintainability**: Easier to update and debug due to the modular structure.\n",
        "7. **Abstraction**: Simplifies complex systems by hiding unnecessary details.\n",
        "8. **Scalability**: Facilitates growth by adding new objects or classes without disrupting existing code.\n",
        "9. **Real-world modeling**: Software design mirrors real-world entities, making it easier to understand.\n",
        "10. **Improved collaboration**: Teams can work on different objects independently, enhancing collaboration."
      ],
      "metadata": {
        "id": "ZFhwxai13tY7"
      }
    },
    {
      "cell_type": "markdown",
      "source": [
        "**Q17)  What is the difference between a class variable and an instance variable?**\n",
        "\n",
        "-> Difference between a class and an instance variable are below:\n",
        "\n",
        "**Class Variable:**\n",
        "* Shared across all instances of a class.\n",
        "* Defined within the class but outside any instance method.\n",
        "* Changes to a class variable affect all instances.\n",
        "\n",
        "**For Example:**\n",
        "\n",
        "    class Example:\n",
        "      shared_var = 42  # Class variable\n",
        "\n",
        "**Instance Variable:**\n",
        "* Specific to each instance of the class.\n",
        "* Defined within an instance method, typically `__init __`.\n",
        "* Changes to an instance variable affect only that specific instance.\n",
        "\n",
        "**For Example:**\n",
        "\n",
        "    class Example:\n",
        "      def __init__(self, value):\n",
        "        self.instance_var = value  # Instance variable\n"
      ],
      "metadata": {
        "id": "ZjsBq3hL8cEm"
      }
    },
    {
      "cell_type": "markdown",
      "source": [
        "**Q18) What is multiple inheritance in Python?**\n",
        "\n",
        "-> Multiple inheritance is a feature where a class can inherit from more than one parent class. This allows the child class to inherit attributes and methods from multiple classes, combining their functionalities.\n",
        "\n",
        "**Syntax**\n",
        "\n",
        "    class Parent1:\n",
        "        # Parent1 methods and attributes\n",
        "        pass\n",
        "\n",
        "    class Parent2:\n",
        "        # Parent2 methods and attributes\n",
        "        pass\n",
        "\n",
        "    class Child(Parent1, Parent2):\n",
        "        # Child class inherits from Parent1 and Parent2\n",
        "        pass\n",
        "\n",
        "**Advantages:**\n",
        "* Code Reusability: You can reuse code from multiple classes.\n",
        "* Enhanced Functionality: The child class can combine functionalities from multiple classes.\n"
      ],
      "metadata": {
        "id": "eG3XKhmq_ZGu"
      }
    },
    {
      "cell_type": "markdown",
      "source": [
        "**Q19)  Explain the purpose of `__str__` and `__repr__` methods in Python?**\n",
        "\n",
        "-> The `__str__` and `__repr__` methods are special (or magic) methods that define how objects of a class are represented as strings. These methods are particularly useful for debugging and logging, as well as for making the string representation of objects more readable.\n",
        "\n",
        "**1) Purpose of `__str__` Method :**\n",
        "* Provides a \"user-friendly\" or informal string representation of an object.\n",
        "* Used by the built-in str() function and functions like print().\n",
        "\n",
        "**Use Case:**\n",
        "The `__str__` method is designed to return a readable, descriptive string for end users.\n",
        "\n",
        "**2) Purpose of `__repr__` Method :**\n",
        "* Provides an \"official\" or formal string representation of an object, ideally one that can be used to recreate the object.\n",
        "* Used by the built-in repr() function, and also in interactive Python sessions (e.g., in a REPL or debugger).\n",
        "\n",
        "**Use Case:**\n",
        "The `__repr__` method is intended for developers and debugging, showing a detailed and often unambiguous string representation of the object."
      ],
      "metadata": {
        "id": "Lgg55ryz9hqg"
      }
    },
    {
      "cell_type": "markdown",
      "source": [
        "**Q20) What is the significance of the super() function in Python?**\n",
        "\n",
        "-> The super() function is a built-in utility that allows to call methods from a parent class in the context of the current child class. It is commonly used in object-oriented programming to facilitate inheritance and avoid explicitly referring to the parent class by name.\n",
        "* Allows access to the parent class's methods or attributes.\n",
        "* Commonly used in inheritance to call the `__init__` method of the parent class.\n",
        "* Prevents the need for explicitly referencing the parent class, making code more maintainable.\n",
        "\n",
        "**Key Features of super()**\n",
        "* Access Parent Class Methods: Allows a child class to call a method of its parent class.\n",
        "* Dynamic Method Resolution: Works seamlessly with Python's Method Resolution Order (MRO), supporting multiple inheritance scenarios.\n",
        "* Avoid Hardcoding Parent Class: Makes code more maintainable and flexible by avoiding direct references to the parent class.\n",
        "\n",
        "**Syntax:**\n",
        "\n",
        "    super().method(arguments)\n"
      ],
      "metadata": {
        "id": "Xq86nbbmCzfg"
      }
    },
    {
      "cell_type": "markdown",
      "source": [
        "**Q21) What is the significance of the `__del__` method in Python?**\n",
        "\n",
        "-> **Significance of the `__del__` method:**\n",
        "* Acts as a destructor for an object.\n",
        "* Called when an object is about to be destroyed (garbage collected).\n",
        "* Can be used for cleanup tasks, like closing files or releasing resources.\n",
        "\n",
        "**For Example:**\n",
        "\n",
        "    class Example:\n",
        "      def __del__(self):\n",
        "        print(\"Object is being deleted.\")"
      ],
      "metadata": {
        "id": "BwVqumaQEoVh"
      }
    },
    {
      "cell_type": "markdown",
      "source": [
        "**Q22)What is the difference between @staticmethod and @classmethod in Python?**\n",
        "\n",
        "-> Difference between @staticmethod and @classmethod:\n",
        "\n",
        "**@staticmethod:**\n",
        "* Does not require a reference to the class (cls) or instance (self).\n",
        "* Acts like a normal function within the class namespace.\n",
        "\n",
        "For Example:\n",
        "\n",
        "    @staticmethod\n",
        "    def greet():\n",
        "      print(\"Hello!\")\n",
        "\n",
        "**@classmethod:**\n",
        "* Takes a reference to the class (cls) as its first parameter.\n",
        "* Can access and modify class variables.\n",
        "\n",
        "For Example:\n",
        "\n",
        "    @classmethod\n",
        "    ef create(cls, arg):\n",
        "      return cls(arg)"
      ],
      "metadata": {
        "id": "j3Q_12PFFqYm"
      }
    },
    {
      "cell_type": "markdown",
      "source": [
        "**Q23) How does polymorphism work in Python with inheritance?**\n",
        "\n",
        "-> Polymorphism allows objects of different classes to be treated as objects of a common superclass. It enables a single interface to handle different types of objects, often achieved through \"method overriding\" in inheritance.\n",
        "\n",
        "**How it Works**\n",
        "\n",
        "When a method in a subclass has the same name and signature as a method in the parent class, the subclass method overrides the parent method. Polymorphism ensures that the appropriate method is called based on the object type.\n",
        "\n",
        "Example of Polymorphism with Inheritance\n",
        "\n",
        "```python\n",
        "# Base class\n",
        "class Animal:\n",
        "    def speak(self):\n",
        "        return \"Animal makes a sound\"\n",
        "\n",
        "# Subclass 1\n",
        "class Dog(Animal):\n",
        "    def speak(self):\n",
        "        return \"Dog barks\"\n",
        "\n",
        "# Subclass 2\n",
        "class Cat(Animal):\n",
        "    def speak(self):\n",
        "        return \"Cat meows\"\n",
        "\n",
        "# Function demonstrating polymorphism\n",
        "def animal_sound(animal):\n",
        "    print(animal.speak())\n",
        "\n",
        "# Creating objects\n",
        "dog = Dog()\n",
        "cat = Cat()\n",
        "\n",
        "# Calling the function with different objects\n",
        "# Calls Dog's speak method\n",
        "animal_sound(dog)  #Dog barks\n",
        "\n",
        "# Calls Cat's speak method\n",
        "animal_sound(cat)   #Cat meows\n",
        "```"
      ],
      "metadata": {
        "id": "0QpqkDl1G0MX"
      }
    },
    {
      "cell_type": "markdown",
      "source": [
        "**Q24) What is method chaining in Python OOP?**\n",
        "\n",
        "-> Method chaining is a design pattern where methods return the object itself (self), allowing multiple methods to be called in a single, fluent statement. This improves code readability and reduces the need for intermediate variables.\n",
        "\n",
        "For Example:\n",
        "```python\n",
        "class Builder:\n",
        "    def __init__(self):\n",
        "        self.result = \"\"\n",
        "    def add_text(self, text):\n",
        "        self.result += text\n",
        "        return self\n",
        "    def add_space(self):\n",
        "        self.result += \" \"\n",
        "        return self\n",
        "    def get_result(self):\n",
        "        return self.result\n",
        "\n",
        "output = Builder().add_text(\"Hello\").add_space().add_text(\"World\").get_result()\n",
        "print(output)  # Output: \"Hello World\"\n",
        "```\n",
        "\n",
        "**Benefits:**\n",
        "* Cleaner, more readable code.\n",
        "* Fluent API for object configuration or sequential operations.\n",
        "\n",
        "**Limitation:**\n",
        "* Errors in chains can be harder to debug, and it requires careful implementation."
      ],
      "metadata": {
        "id": "YddUIwGzMSdB"
      }
    },
    {
      "cell_type": "markdown",
      "source": [
        "**Q25) What is the purpose of the __call__ method in Python?**\n",
        "\n",
        "-> The `__call__` method in Python is a special method that allows an instance of a class to be invoked as if it were a function. This makes the instance itself callable and enables customized behavior when the instance is called.It is a powerful tool in Python that can make your code more elegant and versatile by combining object-oriented programming with functional programming paradigms.\n",
        "\n",
        "**Purpose of the __call__ method :**\n",
        "\n",
        " 1. **Make Objects Callable**:\n",
        "   Allows to treat an instance of a class like a regular function. This can simplify the use of an object in scenarios where function-like behavior is needed.\n",
        "\n",
        "2. **Encapsulation**:\n",
        "   It allows encapsulating both data and behavior in a single object while still enabling the object to be invoked in a function-like manner.\n",
        "\n",
        "3. **Stateful Functions**:\n",
        "   Objects with the `__call__` method can maintain internal state across invocations, which is useful when function calls need to maintain context or history.\n",
        "\n",
        "4. **Code Simplification**:\n",
        "   Using `__call__` can reduce boilerplate code by encapsulating functionality and state into one callable object instead of separate functions or classes.\n",
        "\n",
        "**Common Use Cases:**\n",
        "\n",
        "1. **Function-like Objects**:\n",
        "   Creating instances that can behave like functions, making the API simpler and more intuitive.\n",
        "\n",
        "2. **Decorators**:\n",
        "   Classes with `__call__` can be used as decorators to modify the behavior of other functions or methods.\n",
        "\n",
        "3. **Dynamic Behavior**:\n",
        "   Allowing objects to execute dynamic or context-dependent actions when invoked.\n",
        "\n",
        "4. **Custom Factories or Processors**:\n",
        "   When objects need to generate or process data in a way that requires encapsulated logic and possible state retention.\n"
      ],
      "metadata": {
        "id": "DQPHIVfDHcqz"
      }
    },
    {
      "cell_type": "markdown",
      "source": [
        "# Practical Questions"
      ],
      "metadata": {
        "id": "6LYWTjbX6gjT"
      }
    },
    {
      "cell_type": "code",
      "source": [
        "# 1. Create a parent class Animal with a method speak() that prints a generic message.\n",
        "# Create a child class Dog that overrides the speak() method to print \"Bark!\"\n",
        "\n",
        "# Parent class\n",
        "class Animal:\n",
        "    def speak(self):\n",
        "        print(\"The animal makes a sound.\")\n",
        "\n",
        "# Child class\n",
        "class Dog(Animal):\n",
        "    def speak(self):\n",
        "        print(\"Bark!\")\n",
        "\n",
        "# Create instances and call speak()\n",
        "animal = Animal()\n",
        "animal.speak()  # speak() of Parent class Output: The animal makes a sound.\n",
        "\n",
        "dog = Dog()\n",
        "dog.speak()  # speak() of child class Output: Bark!"
      ],
      "metadata": {
        "colab": {
          "base_uri": "https://localhost:8080/"
        },
        "id": "qTYhlmrn6rWm",
        "outputId": "c70c3320-0c1d-48e6-bebd-2fc147237dc0"
      },
      "execution_count": null,
      "outputs": [
        {
          "output_type": "stream",
          "name": "stdout",
          "text": [
            "The animal makes a sound.\n",
            "Bark!\n"
          ]
        }
      ]
    },
    {
      "cell_type": "code",
      "source": [
        "# 2. Write a program to create an abstract class Shape with a method area().\n",
        "#Derive classes Circle and Rectangle from it and implement the area() method in both.\n",
        "\n",
        "from abc import ABC, abstractmethod\n",
        "import math\n",
        "\n",
        "# Abstract base class\n",
        "class Shape(ABC):\n",
        "    @abstractmethod\n",
        "    def area(self):\n",
        "        pass\n",
        "\n",
        "# Derived class for Circle\n",
        "class Circle(Shape):\n",
        "    def __init__(self, radius):\n",
        "        self.radius = radius\n",
        "\n",
        "    def area(self):\n",
        "        return math.pi * self.radius ** 2\n",
        "\n",
        "# Derived class for Rectangle\n",
        "class Rectangle(Shape):\n",
        "    def __init__(self, width, height):\n",
        "        self.width = width\n",
        "        self.height = height\n",
        "\n",
        "    def area(self):\n",
        "        return self.width * self.height\n",
        "\n",
        "circle = Circle(5)\n",
        "rectangle = Rectangle(4, 6)\n",
        "\n",
        "print(\"Circle area:\", circle.area())\n",
        "print(\"Rectangle area:\", rectangle.area())"
      ],
      "metadata": {
        "colab": {
          "base_uri": "https://localhost:8080/"
        },
        "id": "Z83Gy2akPrTs",
        "outputId": "d7e4f65d-b6e4-40fc-a144-ba9a95a7c72c"
      },
      "execution_count": null,
      "outputs": [
        {
          "output_type": "stream",
          "name": "stdout",
          "text": [
            "Circle area: 78.53981633974483\n",
            "Rectangle area: 24\n"
          ]
        }
      ]
    },
    {
      "cell_type": "code",
      "source": [
        "#3. Implement a multi-level inheritance scenario where a class Vehicle has an attribute type.\n",
        "#Derive a class Car and further derive a class ElectricCar that adds a battery attribute.\n",
        "\n",
        "# Base class Vehicle\n",
        "class Vehicle:\n",
        "    def __init__(self, vehicle_type):\n",
        "        self.type = vehicle_type  # Attribute to store the type of vehicle\n",
        "\n",
        "# Intermediate class Car\n",
        "class Car(Vehicle):\n",
        "    def __init__(self, vehicle_type, brand):\n",
        "        super().__init__(vehicle_type)  # Initialize parent class attributes\n",
        "        self.brand = brand  # Attribute to store the brand of the car\n",
        "\n",
        "# Derived class ElectricCar\n",
        "class ElectricCar(Car):\n",
        "    def __init__(self, vehicle_type, brand, battery_capacity):\n",
        "        super().__init__(vehicle_type, brand)  # Initialize parent class attributes\n",
        "        self.battery = battery_capacity  # Attribute to store battery capacity\n",
        "\n",
        "my_car = ElectricCar(\"Electric\", \"TATA Tiago EV\", \"55 kWh\")\n",
        "\n",
        "# Display attributes of the electric car\n",
        "print(f\"Type: {my_car.type}, Brand: {my_car.brand}, Battery: {my_car.battery}\")"
      ],
      "metadata": {
        "colab": {
          "base_uri": "https://localhost:8080/"
        },
        "id": "jaypBb52Qip1",
        "outputId": "cccf9946-a97c-41a4-c942-2fd77fabc1de"
      },
      "execution_count": null,
      "outputs": [
        {
          "output_type": "stream",
          "name": "stdout",
          "text": [
            "Type: Electric, Brand: TATA Tiago EV, Battery: 55 kWh\n"
          ]
        }
      ]
    },
    {
      "cell_type": "code",
      "source": [
        "\"\"\"4. Demonstrate polymorphism by creating a base class Bird with a method fly(). Create two derived classes\n",
        "Sparrow and Penguin that override the fly() method. \"\"\"\n",
        "# Base class\n",
        "class Bird:\n",
        "    def fly(self):\n",
        "        print(\"Bird is flying\")\n",
        "\n",
        "# Derived class Sparrow\n",
        "class Sparrow(Bird):\n",
        "    def fly(self):\n",
        "        print(\"Sparrow can fly high\")\n",
        "\n",
        "# Derived class Penguin\n",
        "class Penguin(Bird):\n",
        "    def fly(self):\n",
        "        print(\"Penguins can't fly\")\n",
        "\n",
        "# Function to demonstrate polymorphism\n",
        "def make_bird_fly(bird: Bird):\n",
        "    bird.fly()\n",
        "\n",
        "# Create objects\n",
        "sparrow = Sparrow()\n",
        "penguin = Penguin()\n",
        "\n",
        "# Call the function with different bird types\n",
        "make_bird_fly(sparrow)  # Output: Sparrow can fly high\n",
        "make_bird_fly(penguin)  # Output: Penguins can't fly"
      ],
      "metadata": {
        "colab": {
          "base_uri": "https://localhost:8080/"
        },
        "id": "JbHSvrWZR-Qc",
        "outputId": "23c7cad9-d44a-4d11-f560-40e9ab55484a"
      },
      "execution_count": 1,
      "outputs": [
        {
          "output_type": "stream",
          "name": "stdout",
          "text": [
            "Sparrow can fly high\n",
            "Penguins can't fly\n"
          ]
        }
      ]
    },
    {
      "cell_type": "code",
      "source": [
        "\"\"\"5. Write a program to demonstrate encapsulation by creating a class BankAccount with private attributes\n",
        "balance and methods to deposit, withdraw, and check balance.\"\"\"\n",
        "\n",
        "class BankAccount:\n",
        "    def __init__(self, initial_balance=0):\n",
        "        self.__balance = initial_balance  # Private attribute for balance\n",
        "\n",
        "    def deposit(self, amount):\n",
        "        if amount > 0:\n",
        "            self.__balance += amount\n",
        "            print(f\"Deposited Amount : ₹{amount}\")\n",
        "        else:\n",
        "            print(\"Deposit amount must be positive.\")\n",
        "\n",
        "    #Method to withdraw an amount from the account\n",
        "    def withdraw(self, amount):\n",
        "        if 0 < amount <= self.__balance:\n",
        "            self.__balance -= amount\n",
        "            print(f\"Withdraw Amount: ₹{amount}\")\n",
        "        else:\n",
        "            print(\"Insufficient balance or invalid amount.\")\n",
        "\n",
        "    #Method to check the current account balance\n",
        "    def check_balance(self):\n",
        "        return f\"₹{self.__balance}\"\n",
        "\n",
        "account = BankAccount(10000)  # Create an account with initial balance\n",
        "account.deposit(5000)\n",
        "account.withdraw(3000)\n",
        "print(\"Balance Amount:\", account.check_balance())  # Output: Display current balance"
      ],
      "metadata": {
        "colab": {
          "base_uri": "https://localhost:8080/"
        },
        "id": "W_dIc9lB9uSp",
        "outputId": "c53f802c-a1c7-437c-dfb8-16fef172ced5"
      },
      "execution_count": null,
      "outputs": [
        {
          "output_type": "stream",
          "name": "stdout",
          "text": [
            "Deposited Amount : ₹5000\n",
            "Withdraw Amount: ₹3000\n",
            "Balance Amount: ₹12000\n"
          ]
        }
      ]
    },
    {
      "cell_type": "code",
      "source": [
        "\"\"\" 6. Demonstrate runtime polymorphism using a method play() in a base class Instrument.\n",
        "Derive classes Guitar and Piano that implement their own version of play().\"\"\"\n",
        "\n",
        "# Base class Instrument\n",
        "class Instrument:\n",
        "    def play(self):\n",
        "        \"\"\"Method to be overridden in derived classes\"\"\"\n",
        "        raise NotImplementedError(\"Subclasses must implement play method\")\n",
        "\n",
        "# Derived class Guitar\n",
        "class Guitar(Instrument):\n",
        "    def play(self):\n",
        "        \"\"\"Specific implementation for playing a guitar\"\"\"\n",
        "        print(\"Playing the guitar: Strum, strum!\")\n",
        "\n",
        "# Derived class Piano\n",
        "class Piano(Instrument):\n",
        "    def play(self):\n",
        "        \"\"\"Specific implementation for playing a piano\"\"\"\n",
        "        print(\"Playing the piano: Plink, plonk!\")\n",
        "\n",
        "instruments = [Guitar(), Piano()]\n",
        "\n",
        "for instrument in instruments:\n",
        "    instrument.play()  # Call the play method of each instrument"
      ],
      "metadata": {
        "colab": {
          "base_uri": "https://localhost:8080/"
        },
        "id": "-p24wEu6_mhg",
        "outputId": "8b6b4d12-b78b-4d90-a2e5-2e2877d56518"
      },
      "execution_count": null,
      "outputs": [
        {
          "output_type": "stream",
          "name": "stdout",
          "text": [
            "Playing the guitar: Strum, strum!\n",
            "Playing the piano: Plink, plonk!\n"
          ]
        }
      ]
    },
    {
      "cell_type": "code",
      "source": [
        "\"\"\" 7. Create a class MathOperations with a class method add_numbers() to add\n",
        "two numbers and a static method subtract_numbers() to subtract two numbers.\"\"\"\n",
        "\n",
        "class MathOperations:\n",
        "    @classmethod\n",
        "    def add_numbers(cls, a, b): #Class method to add two numbers\n",
        "        return a + b\n",
        "\n",
        "    @staticmethod\n",
        "    def subtract_numbers(a, b): # Static method to subtract two numbers\n",
        "        return a - b\n",
        "\n",
        "print(\"Addition using class method :\", MathOperations.add_numbers(10, 5))  # Class method call\n",
        "print(\"Subtraction using static method:\", MathOperations.subtract_numbers(10, 5))  # Static method call"
      ],
      "metadata": {
        "colab": {
          "base_uri": "https://localhost:8080/"
        },
        "id": "bROneUi0AE5s",
        "outputId": "111dab58-c52f-4ce3-ce5c-9acb9871f07d"
      },
      "execution_count": null,
      "outputs": [
        {
          "output_type": "stream",
          "name": "stdout",
          "text": [
            "Addition using class method : 15\n",
            "Subtraction using static method: 5\n"
          ]
        }
      ]
    },
    {
      "cell_type": "code",
      "source": [
        "#8.Implement a class Person with a class method to count the total number of persons created.\n",
        "\n",
        "class Person:\n",
        "    count = 0  # attribute to count the number of persons\n",
        "\n",
        "    def __init__(self, name):\n",
        "        self.name = name\n",
        "        Person.count += 1\n",
        "\n",
        "    @classmethod\n",
        "    def total_persons(cls):\n",
        "        return cls.count\n",
        "\n",
        "p1 = Person(\"Ekta\")\n",
        "p2 = Person(\"Vishal\")\n",
        "p3 = Person(\"Charu\")\n",
        "print(\"Total Persons Created:\", Person.total_persons())  # Output: 3"
      ],
      "metadata": {
        "colab": {
          "base_uri": "https://localhost:8080/"
        },
        "id": "-1fbM1_oA_tL",
        "outputId": "9ab1a469-7402-4f82-c33f-2c182fcd95ec"
      },
      "execution_count": null,
      "outputs": [
        {
          "output_type": "stream",
          "name": "stdout",
          "text": [
            "Total Persons Created: 3\n"
          ]
        }
      ]
    },
    {
      "cell_type": "code",
      "source": [
        "# 9. Write a class Fraction with attributes numerator and denominator.\n",
        "# Override the str method to display the fraction as \"numerator/denominator\"\n",
        "\n",
        "class Fraction:\n",
        "    def __init__(self, numerator, denominator):\n",
        "        self.numerator = numerator\n",
        "        self.denominator = denominator\n",
        "\n",
        "#Override the string representation of the fraction\n",
        "    def __str__(self):\n",
        "        return f\"{self.numerator}/{self.denominator}\"\n",
        "\n",
        "fraction = Fraction(15, 4)\n",
        "print(\"Fraction:\", fraction)  # Output: 3/4"
      ],
      "metadata": {
        "colab": {
          "base_uri": "https://localhost:8080/"
        },
        "id": "N2nAoSg8CB6_",
        "outputId": "d9366933-8e88-456f-ad83-82edb2f5b30e"
      },
      "execution_count": null,
      "outputs": [
        {
          "output_type": "stream",
          "name": "stdout",
          "text": [
            "Fraction: 15/4\n"
          ]
        }
      ]
    },
    {
      "cell_type": "code",
      "source": [
        "#10.Demonstrate operator overloading by creating a class Vector and overriding the add method to add two vectors.\n",
        "\n",
        "class Vector:\n",
        "    def __init__(self, x, y):\n",
        "        self.x = x\n",
        "        self.y = y\n",
        "\n",
        "    #Override the + operator to add two vectors\n",
        "    def __add__(self, other):\n",
        "        return Vector(self.x + other.x, self.y + other.y)\n",
        "\n",
        "    #String representation of the vector\n",
        "    def __str__(self):\n",
        "        return f\"({self.x}, {self.y})\"\n",
        "\n",
        "v1 = Vector(2, 5)\n",
        "v2 = Vector(6, 5)\n",
        "\n",
        "v3 = v1 + v2  # Use overridden + operator\n",
        "print(\"Vector Addition:\", v3)  # Output: (8, 10)"
      ],
      "metadata": {
        "colab": {
          "base_uri": "https://localhost:8080/"
        },
        "id": "5VxhtGYhCdzH",
        "outputId": "732293c0-6845-40ae-a01a-6f8eb254733c"
      },
      "execution_count": null,
      "outputs": [
        {
          "output_type": "stream",
          "name": "stdout",
          "text": [
            "Vector Addition: (8, 10)\n"
          ]
        }
      ]
    },
    {
      "cell_type": "code",
      "source": [
        "#11. Create a class Person with attributes name and age. Add a method greet()\n",
        "#that prints \"Hello, my name is {name} and I am {age} years old.\"\n",
        "\n",
        "class Person:\n",
        "    def __init__(self, name, age):\n",
        "        self.name = name\n",
        "        self.age = age\n",
        "\n",
        "    def greet(self):\n",
        "        print(f\"Hello, my name is {self.name} and I am {self.age} years old.\")\n",
        "\n",
        "person = Person(\"Ekta\", 26)\n",
        "\n",
        "person.greet()  # Output: Hello, my name is Ekta and I am 26 years old."
      ],
      "metadata": {
        "colab": {
          "base_uri": "https://localhost:8080/"
        },
        "id": "Gu_EySAj7yL-",
        "outputId": "12358ce9-2578-4ca2-a97c-9c524b4ee6f1"
      },
      "execution_count": null,
      "outputs": [
        {
          "output_type": "stream",
          "name": "stdout",
          "text": [
            "Hello, my name is Ekta and I am 26 years old.\n"
          ]
        }
      ]
    },
    {
      "cell_type": "code",
      "source": [
        "\"\"\"12.Implement a class Student with attributes name and grades.\n",
        "Create a method average_grade() to compute the average of the grades\"\"\"\n",
        "\n",
        "class Student:\n",
        "    def __init__(self, name, grades):\n",
        "        self.name = name\n",
        "        self.grades = grades\n",
        "\n",
        "    #Compute and return the average of the grades\n",
        "    def average_grade(self):\n",
        "        if not self.grades:\n",
        "            return 0  # Return 0 if no grades are available\n",
        "        return sum(self.grades) / len(self.grades)\n",
        "\n",
        "    def __str__(self):\n",
        "        return f\"Student: {self.name}, Grades: {self.grades}\"\n",
        "\n",
        "student = Student(\"Ekta\", [85, 90, 78, 92, 94])\n",
        "print(student)  # Output: Student: Ekta, Grades: [85, 90, 78, 92, 94]\n",
        "print(\"Average Grade:\", student.average_grade())"
      ],
      "metadata": {
        "colab": {
          "base_uri": "https://localhost:8080/"
        },
        "id": "lgISJ94xDd6c",
        "outputId": "51fa24bd-8494-434b-a43a-bc1090c02355"
      },
      "execution_count": null,
      "outputs": [
        {
          "output_type": "stream",
          "name": "stdout",
          "text": [
            "Student: Ekta, Grades: [85, 90, 78, 92, 94]\n",
            "Average Grade: 87.8\n"
          ]
        }
      ]
    },
    {
      "cell_type": "code",
      "source": [
        "# 13. Create a class Rectangle with methods set_dimensions() to set the dimensions and area() to calculate the area.\n",
        "\n",
        "class Rectangle:\n",
        "    def __init__(self):\n",
        "        # Initialize the rectangle with default dimensions\n",
        "        self.length = 0\n",
        "        self.width = 0\n",
        "\n",
        "    def set_dimensions(self, length, width):\n",
        "        \"\"\"\n",
        "        Sets the dimensions of the rectangle.\n",
        "        \"\"\"\n",
        "        self.length = length\n",
        "        self.width = width\n",
        "\n",
        "    def area(self):\n",
        "        \"\"\"\n",
        "        Calculates and returns the area of the rectangle.\n",
        "        \"\"\"\n",
        "        return self.length * self.width\n",
        "\n",
        "rect = Rectangle()  # Create a Rectangle object\n",
        "rect.set_dimensions(10, 5)  # Set length to 10 and width to 5\n",
        "print(f\"Area of the rectangle: {rect.area()}\")  # Outputs: Area of the rectangle: 50"
      ],
      "metadata": {
        "colab": {
          "base_uri": "https://localhost:8080/"
        },
        "id": "tRvBMy1AvU8D",
        "outputId": "93b53fca-5eaa-45b6-b63c-748358d9de61"
      },
      "execution_count": null,
      "outputs": [
        {
          "output_type": "stream",
          "name": "stdout",
          "text": [
            "Area of the rectangle: 50\n"
          ]
        }
      ]
    },
    {
      "cell_type": "code",
      "source": [
        "#14.Create a class Employee with a method calculate_salary() that computes the salary based\n",
        "# on hours worked and hourly rate.Create a derived class Manager that adds a bonus to the salary.\n",
        "\n",
        "class Employee:\n",
        "    def __init__(self, hours_worked, hourly_rate):\n",
        "        self.hours_worked = hours_worked\n",
        "        self.hourly_rate = hourly_rate\n",
        "\n",
        "    def calculate_salary(self):\n",
        "        return self.hours_worked * self.hourly_rate\n",
        "\n",
        "class Manager(Employee):\n",
        "    def __init__(self, hours_worked, hourly_rate, bonus):\n",
        "        super().__init__(hours_worked, hourly_rate)\n",
        "        self.bonus = bonus\n",
        "\n",
        "    def calculate_salary(self):\n",
        "        return super().calculate_salary() + self.bonus\n",
        "\n",
        "employee = Employee(40, 500)  # 40 hours at ₹500/hour\n",
        "manager = Manager(40, 800, 10000)  # 40 hours at ₹800/hour with ₹10,000 bonus\n",
        "\n",
        "print(f\"Employee salary (Without Bouns): ₹{employee.calculate_salary()}\")  # Outputs: Employee salary (Without Bouns): ₹20000\n",
        "print(f\"Manager salary (After Bonus): ₹{manager.calculate_salary()}\")    # Outputs: Manager salary (After Bonus): ₹42000"
      ],
      "metadata": {
        "colab": {
          "base_uri": "https://localhost:8080/"
        },
        "id": "1NeGPBfXtdYw",
        "outputId": "9f71c50f-7ddd-4016-a20b-c2bfa0b19a9b"
      },
      "execution_count": null,
      "outputs": [
        {
          "output_type": "stream",
          "name": "stdout",
          "text": [
            "Employee salary (Without Bouns): ₹20000\n",
            "Manager salary (After Bonus): ₹42000\n"
          ]
        }
      ]
    },
    {
      "cell_type": "code",
      "source": [
        "#15.Create a class Product with attributes name, price, and quantity.\n",
        "#Implement a method total_price() that calculates the total price of the product.\n",
        "\n",
        "class Product:\n",
        "    def __init__(self, name, price, quantity):\n",
        "        self.name = name\n",
        "        self.price = price\n",
        "        self.quantity = quantity\n",
        "\n",
        "    def total_price(self):\n",
        "        # Calculate the total price\n",
        "        return self.price * self.quantity\n",
        "\n",
        "# Create an instance of the Product class\n",
        "product = Product(\"Laptop\", 50000, 3)\n",
        "\n",
        "# Call the total_price method to calculate the total price\n",
        "print(f\"Total price of {product.name}: ₹{product.total_price()}\")  # Output: Total price of Laptop: ₹150000"
      ],
      "metadata": {
        "colab": {
          "base_uri": "https://localhost:8080/"
        },
        "id": "1X1TM5kP81xt",
        "outputId": "7bede5d7-ca60-4d09-99b6-6197d630d85c"
      },
      "execution_count": null,
      "outputs": [
        {
          "output_type": "stream",
          "name": "stdout",
          "text": [
            "Total price of Laptop: ₹150000\n"
          ]
        }
      ]
    },
    {
      "cell_type": "code",
      "source": [
        "#16. Create a class Animal with an abstract method sound().\n",
        "#Create two derived classes Cow and Sheep that implement the sound() method.\n",
        "\n",
        "from abc import ABC, abstractmethod\n",
        "\n",
        "class Animal(ABC):\n",
        "    @abstractmethod\n",
        "    def sound(self):\n",
        "        \"\"\"Abstract method to be implemented by derived classes\"\"\"\n",
        "        pass\n",
        "\n",
        "# Define a Cow class that inherits from Animal\n",
        "class Cow(Animal):\n",
        "    def sound(self):\n",
        "        \"\"\"\n",
        "        Implements the abstract sound method for a Cow.\n",
        "        Returns the sound made by a cow: 'Moo'.\n",
        "        \"\"\"\n",
        "        return \"Moo\"\n",
        "\n",
        "# Define a Sheep class that inherits from Animal\n",
        "class Sheep(Animal):\n",
        "    def sound(self):\n",
        "        \"\"\"\n",
        "        Implements the abstract sound method for a Sheep.\n",
        "        Returns the sound made by a sheep: 'Baa'.\n",
        "        \"\"\"\n",
        "        return \"Baa\"\n",
        "\n",
        "cow = Cow()     #instance of the Cow class\n",
        "sheep = Sheep() #instance of the Sheep class\n",
        "\n",
        "print(f\"Cow sound: {cow.sound()}\")  # Outputs: Cow sound: Moo\n",
        "print(f\"Sheep sound: {sheep.sound()}\")  # Outputs: Sheep sound: Baa"
      ],
      "metadata": {
        "colab": {
          "base_uri": "https://localhost:8080/"
        },
        "id": "gb6GyGC5rLnr",
        "outputId": "3163ec25-14f7-479f-f8a9-909cdbcfddb1"
      },
      "execution_count": null,
      "outputs": [
        {
          "output_type": "stream",
          "name": "stdout",
          "text": [
            "Cow sound: Moo\n",
            "Sheep sound: Baa\n"
          ]
        }
      ]
    },
    {
      "cell_type": "code",
      "source": [
        "#17. Create a class Book with attributes title, author, and year_published.\n",
        "#Add a method get_book_info() that returns a formatted string with the book's details.\n",
        "\n",
        "class Book:\n",
        "    def __init__(self, title, author, year_published):\n",
        "        self.title = title\n",
        "        self.author = author\n",
        "        self.year_published = year_published\n",
        "\n",
        "    def get_book_info(self):\n",
        "        # Return the book's details as a formatted string\n",
        "        return f\"Title: {self.title}\\nAuthor: {self.author}\\nYear Published: {self.year_published}\"\n",
        "\n",
        "# Create an instance of the Book class\n",
        "book = Book(\"Do IT TODAY\", \"Darious Foroux\", 2018)\n",
        "\n",
        "# Call the get_book_info method to get the formatted book details\n",
        "print(book.get_book_info())"
      ],
      "metadata": {
        "colab": {
          "base_uri": "https://localhost:8080/"
        },
        "id": "oTjxpwt59b3u",
        "outputId": "9c646eb9-9178-40c6-c91a-0849854e622c"
      },
      "execution_count": null,
      "outputs": [
        {
          "output_type": "stream",
          "name": "stdout",
          "text": [
            "Title: Do IT TODAY\n",
            "Author: Darious Foroux\n",
            "Year Published: 2018\n"
          ]
        }
      ]
    },
    {
      "cell_type": "code",
      "source": [
        "# 18.Create a class House with attributes address and price.\n",
        "#Create a derived class Mansion that adds an attribute number_of_rooms.\n",
        "\n",
        "class House:\n",
        "    def __init__(self, address, price):\n",
        "        self.address = address\n",
        "        self.price = price\n",
        "\n",
        "    def __str__(self):\n",
        "        return f\"House Details -[address: {self.address}, price: {self.price}]\"\n",
        "\n",
        "class Mansion(House):\n",
        "    def __init__(self, address, price, number_of_rooms):\n",
        "        super().__init__(address, price)\n",
        "        self.number_of_rooms = number_of_rooms\n",
        "\n",
        "    def __str__(self):\n",
        "        return f\"Mansion Details -[address: {self.address}, price: {self.price}, number_of_rooms: {self.number_of_rooms}]\"\n",
        "\n",
        "house = House(\"123 House Address\", 250000)\n",
        "mansion = Mansion(\"123 Mantion Adrress\", 1250000, 6)\n",
        "\n",
        "print(house)\n",
        "print(mansion)"
      ],
      "metadata": {
        "colab": {
          "base_uri": "https://localhost:8080/"
        },
        "id": "xTXSLj1cpvSi",
        "outputId": "f8600f4d-02d8-4f78-a552-a6a0ad9cc928"
      },
      "execution_count": null,
      "outputs": [
        {
          "output_type": "stream",
          "name": "stdout",
          "text": [
            "House Details -[address: 123 House Address, price: 250000]\n",
            "Mansion Details -[address: 123 Mantion Adrress, price: 1250000, number_of_rooms: 6]\n"
          ]
        }
      ]
    }
  ]
}